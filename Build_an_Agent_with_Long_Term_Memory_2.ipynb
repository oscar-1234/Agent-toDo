{
  "nbformat": 4,
  "nbformat_minor": 0,
  "metadata": {
    "colab": {
      "provenance": [],
      "authorship_tag": "ABX9TyNkHODxsvPU6zlU/YHfaJ6A",
      "include_colab_link": true
    },
    "kernelspec": {
      "name": "python3",
      "display_name": "Python 3"
    },
    "language_info": {
      "name": "python"
    }
  },
  "cells": [
    {
      "cell_type": "markdown",
      "metadata": {
        "id": "view-in-github",
        "colab_type": "text"
      },
      "source": [
        "<a href=\"https://colab.research.google.com/github/oscar-1234/Agent-toDo/blob/main/Build_an_Agent_with_Long_Term_Memory_2.ipynb\" target=\"_parent\"><img src=\"https://colab.research.google.com/assets/colab-badge.svg\" alt=\"Open In Colab\"/></a>"
      ]
    },
    {
      "cell_type": "code",
      "execution_count": null,
      "metadata": {
        "id": "Gvn1TUuWKj3x"
      },
      "outputs": [],
      "source": [
        "%%capture --no-stderr\n",
        "%pip install -U langchain_openai langgraph trustcall langchain_core"
      ]
    },
    {
      "cell_type": "code",
      "source": [
        "import os\n",
        "from google.colab import userdata\n",
        "OPENAI_API_KEY = userdata.get('OPENAI_API_KEY')\n",
        "# Check if the key exists and set it as an environment variable\n",
        "if OPENAI_API_KEY:\n",
        "    os.environ['OPENAI_API_KEY'] = OPENAI_API_KEY\n",
        "else:\n",
        "    # If not found, raise an exception or prompt the user to enter it\n",
        "    raise ValueError(\"OPENAI_API_KEY not found in userdata. Please set it using `userdata.set('OPENAI_API_KEY', 'your_api_key')`.\")"
      ],
      "metadata": {
        "id": "VodHjKiKMhyo"
      },
      "execution_count": null,
      "outputs": []
    },
    {
      "cell_type": "code",
      "source": [
        "#_set_env(\"LANGCHAIN_API_KEY\")\n",
        "\n",
        "import os\n",
        "from google.colab import userdata\n",
        "LANGCHAIN_API_KEY = userdata.get('LANGCHAIN_API_KEY')\n",
        "# Check if the key exists and set it as an environment variable\n",
        "if LANGCHAIN_API_KEY:\n",
        "    os.environ['LANGCHAIN_API_KEY'] = LANGCHAIN_API_KEY\n",
        "else:\n",
        "    # If not found, raise an exception or prompt the user to enter it\n",
        "    raise ValueError(\"LANGCHAIN_API_KEY not found in userdata. Please set it using `userdata.set('LANGCHAIN_API_KEY', 'your_api_key')`.\")\n",
        "\n",
        "os.environ[\"LANGCHAIN_TRACING_V2\"] = \"true\"\n",
        "os.environ[\"LANGCHAIN_PROJECT\"] = \"langchain-academy\"\n",
        "\n",
        "#os.environ[\"LANGCHAIN_ENDPOINT\"]=\"https://api.smith.langchain.com\""
      ],
      "metadata": {
        "id": "FQhrYztNtub3"
      },
      "execution_count": null,
      "outputs": []
    },
    {
      "cell_type": "code",
      "source": [
        "import os\n",
        "from google.colab import userdata\n",
        "TAVILY_API_KEY = userdata.get('TAVILY_API_KEY')\n",
        "# Check if the key exists and set it as an environment variable\n",
        "if TAVILY_API_KEY:\n",
        "    os.environ['TAVILY_API_KEY'] = TAVILY_API_KEY\n",
        "else:\n",
        "    # If not found, raise an exception or prompt the user to enter it\n",
        "    raise ValueError(\"TAVILY_API_KEY not found in userdata. Please set it using `userdata.set('TAVILY_API_KEY', 'your_api_key')`.\")"
      ],
      "metadata": {
        "id": "zmNLMvsolFUq"
      },
      "execution_count": null,
      "outputs": []
    },
    {
      "cell_type": "markdown",
      "source": [
        "##Creating an agent"
      ],
      "metadata": {
        "id": "QvxfAGrAy11N"
      }
    },
    {
      "cell_type": "code",
      "source": [
        "from typing import TypedDict, Literal\n",
        "\n",
        "# Update memory tool\n",
        "class UpdateMemory(TypedDict):\n",
        "    \"\"\" Decision on what memory type to update \"\"\"\n",
        "    update_type: Literal['user', 'todo', 'instructions']"
      ],
      "metadata": {
        "id": "b5sve_pWy2zQ"
      },
      "execution_count": null,
      "outputs": []
    },
    {
      "cell_type": "code",
      "source": [
        "import uuid\n",
        "from IPython.display import Image, display\n",
        "\n",
        "from datetime import datetime\n",
        "from trustcall import create_extractor\n",
        "from typing import Optional\n",
        "from pydantic import BaseModel, Field\n",
        "\n",
        "from langchain_core.runnables import RunnableConfig\n",
        "from langchain_core.messages import merge_message_runs, HumanMessage, SystemMessage\n",
        "\n",
        "from langgraph.checkpoint.memory import MemorySaver\n",
        "from langgraph.graph import StateGraph, MessagesState, END, START\n",
        "from langgraph.store.base import BaseStore\n",
        "from langgraph.store.memory import InMemoryStore\n",
        "\n",
        "from langchain_openai import ChatOpenAI\n",
        "\n",
        "# Initialize the model\n",
        "model = ChatOpenAI(model=\"gpt-4.1-nano\", temperature=0)\n",
        "\n",
        "# User profile schema\n",
        "class Profile(BaseModel):\n",
        "    \"\"\"This is the profile of the user you are chatting with\"\"\"\n",
        "    name: Optional[str] = Field(description=\"The user's name\", default=None)\n",
        "    location: Optional[str] = Field(description=\"The user's location\", default=None)\n",
        "    job: Optional[str] = Field(description=\"The user's job\", default=None)\n",
        "    connections: list[str] = Field(\n",
        "        description=\"Personal connection of the user, such as family members, friends, or coworkers\",\n",
        "        default_factory=list\n",
        "    )\n",
        "    interests: list[str] = Field(\n",
        "        description=\"Interests that the user has\",\n",
        "        default_factory=list\n",
        "    )\n",
        "\n",
        "# ToDo schema\n",
        "class ToDo(BaseModel):\n",
        "    task: str = Field(description=\"The task to be completed.\")\n",
        "    time_to_complete: Optional[int] = Field(description=\"Estimated time to complete the task (minutes).\")\n",
        "    deadline: Optional[datetime] = Field(\n",
        "        description=\"When the task needs to be completed by (if applicable)\",\n",
        "        default=None\n",
        "    )\n",
        "    solutions: list[str] = Field(\n",
        "        description=\"List of specific, actionable solutions (e.g., specific ideas, service providers, or concrete options relevant to completing the task)\",\n",
        "        min_items=1,\n",
        "        default_factory=list\n",
        "    )\n",
        "    status: Literal[\"not started\", \"in progress\", \"done\", \"archived\"] = Field(\n",
        "        description=\"Current status of the task\",\n",
        "        default=\"not started\"\n",
        "    )\n",
        "\n",
        "# Create the Trustcall extractor for updating the user profile\n",
        "profile_extractor = create_extractor(\n",
        "    model,\n",
        "    tools=[Profile],\n",
        "    tool_choice=\"Profile\",\n",
        ")\n",
        "\n",
        "# Chatbot instruction for choosing what to update and what tools to call\n",
        "MODEL_SYSTEM_MESSAGE = \"\"\"You are a helpful chatbot.\n",
        "\n",
        "You are designed to be a companion to a user, helping them keep track of their ToDo list.\n",
        "\n",
        "You have a long term memory which keeps track of three things:\n",
        "1. The user's profile (general information about them)\n",
        "2. The user's ToDo list\n",
        "3. General instructions for updating the ToDo list\n",
        "\n",
        "Here is the current User Profile (may be empty if no information has been collected yet):\n",
        "<user_profile>\n",
        "{user_profile}\n",
        "</user_profile>\n",
        "\n",
        "Here is the current ToDo List (may be empty if no tasks have been added yet):\n",
        "<todo>\n",
        "{todo}\n",
        "</todo>\n",
        "\n",
        "Here are the current user-specified preferences for updating the ToDo list (may be empty if no preferences have been specified yet):\n",
        "<instructions>\n",
        "{instructions}\n",
        "</instructions>\n",
        "\n",
        "Here are your instructions for reasoning about the user's messages:\n",
        "\n",
        "1. Reason carefully about the user's messages as presented below.\n",
        "\n",
        "2. Decide whether any of the your long-term memory should be updated:\n",
        "- If personal information was provided about the user, update the user's profile by calling UpdateMemory tool with type `user`\n",
        "- If tasks are mentioned, update the ToDo list by calling UpdateMemory tool with type `todo`\n",
        "- If the user has specified preferences for how to update the ToDo list, update the instructions by calling UpdateMemory tool with type `instructions`\n",
        "\n",
        "3. Tell the user that you have updated your memory, if appropriate:\n",
        "- Do not tell the user you have updated the user's profile\n",
        "- Tell the user them when you update the todo list\n",
        "- Do not tell the user that you have updated instructions\n",
        "\n",
        "4. Err on the side of updating the todo list. No need to ask for explicit permission.\n",
        "\n",
        "5. Respond naturally to user user after a tool call was made to save memories, or if no tool call was made.\"\"\"\n",
        "\n",
        "# Trustcall instruction\n",
        "TRUSTCALL_INSTRUCTION = \"\"\"Reflect on following interaction.\n",
        "\n",
        "Use the provided tools to retain any necessary memories about the user.\n",
        "\n",
        "Use parallel tool calling to handle updates and insertions simultaneously.\n",
        "\n",
        "System Time: {time}\"\"\"\n",
        "\n",
        "# Instructions for updating the ToDo list\n",
        "CREATE_INSTRUCTIONS = \"\"\"Reflect on the following interaction.\n",
        "\n",
        "Based on this interaction, update your instructions for how to update ToDo list items.\n",
        "\n",
        "Use any feedback from the user to update how they like to have items added, etc.\n",
        "\n",
        "Your current instructions are:\n",
        "\n",
        "<current_instructions>\n",
        "{current_instructions}\n",
        "</current_instructions>\"\"\"\n",
        "\n",
        "# Node definitions\n",
        "def task_mAIstro(state: MessagesState, config: RunnableConfig, store: BaseStore):\n",
        "\n",
        "    \"\"\"Load memories from the store and use them to personalize the chatbot's response.\"\"\"\n",
        "\n",
        "    # Get the user ID from the config\n",
        "    user_id = config[\"configurable\"][\"user_id\"]\n",
        "\n",
        "    # Retrieve profile memory from the store\n",
        "    namespace = (\"profile\", user_id)\n",
        "    memories = store.search(namespace)\n",
        "    if memories:\n",
        "        user_profile = memories[0].value\n",
        "    else:\n",
        "        user_profile = None\n",
        "\n",
        "    # Retrieve task memory from the store\n",
        "    namespace = (\"todo\", user_id)\n",
        "    memories = store.search(namespace)\n",
        "    todo = \"\\n\".join(f\"{mem.value}\" for mem in memories)\n",
        "\n",
        "    # Retrieve custom instructions\n",
        "    namespace = (\"instructions\", user_id)\n",
        "    memories = store.search(namespace)\n",
        "    if memories:\n",
        "        instructions = memories[0].value\n",
        "    else:\n",
        "        instructions = \"\"\n",
        "\n",
        "    system_msg = MODEL_SYSTEM_MESSAGE.format(user_profile=user_profile, todo=todo, instructions=instructions)\n",
        "\n",
        "    # Respond using memory as well as the chat history\n",
        "    response = model.bind_tools([UpdateMemory], parallel_tool_calls=False).invoke([SystemMessage(content=system_msg)]+state[\"messages\"])\n",
        "\n",
        "    return {\"messages\": [response]}\n",
        "\n",
        "def update_profile(state: MessagesState, config: RunnableConfig, store: BaseStore):\n",
        "\n",
        "    \"\"\"Reflect on the chat history and update the memory collection.\"\"\"\n",
        "\n",
        "    # Get the user ID from the config\n",
        "    user_id = config[\"configurable\"][\"user_id\"]\n",
        "\n",
        "    # Define the namespace for the memories\n",
        "    namespace = (\"profile\", user_id)\n",
        "\n",
        "    # Retrieve the most recent memories for context\n",
        "    existing_items = store.search(namespace)\n",
        "\n",
        "    # Format the existing memories for the Trustcall extractor\n",
        "    tool_name = \"Profile\"\n",
        "    existing_memories = ([(existing_item.key, tool_name, existing_item.value)\n",
        "                          for existing_item in existing_items]\n",
        "                          if existing_items\n",
        "                          else None\n",
        "                        )\n",
        "\n",
        "    # Merge the chat history and the instruction\n",
        "    TRUSTCALL_INSTRUCTION_FORMATTED=TRUSTCALL_INSTRUCTION.format(time=datetime.now().isoformat())\n",
        "    updated_messages=list(merge_message_runs(messages=[SystemMessage(content=TRUSTCALL_INSTRUCTION_FORMATTED)] + state[\"messages\"][:-1]))\n",
        "\n",
        "    # Invoke the extractor\n",
        "    result = profile_extractor.invoke({\"messages\": updated_messages,\n",
        "                                         \"existing\": existing_memories})\n",
        "\n",
        "    # Save the memories from Trustcall to the store\n",
        "    for r, rmeta in zip(result[\"responses\"], result[\"response_metadata\"]):\n",
        "        store.put(namespace,\n",
        "                  rmeta.get(\"json_doc_id\", str(uuid.uuid4())),\n",
        "                  r.model_dump(mode=\"json\"),\n",
        "            )\n",
        "    tool_calls = state['messages'][-1].tool_calls\n",
        "    return {\"messages\": [{\"role\": \"tool\", \"content\": \"updated profile\", \"tool_call_id\":tool_calls[0]['id']}]}\n",
        "\n",
        "def update_todos(state: MessagesState, config: RunnableConfig, store: BaseStore):\n",
        "\n",
        "    \"\"\"Reflect on the chat history and update the memory collection.\"\"\"\n",
        "\n",
        "    # Get the user ID from the config\n",
        "    user_id = config[\"configurable\"][\"user_id\"]\n",
        "\n",
        "    # Define the namespace for the memories\n",
        "    namespace = (\"todo\", user_id)\n",
        "\n",
        "    # Retrieve the most recent memories for context\n",
        "    existing_items = store.search(namespace)\n",
        "\n",
        "    # Format the existing memories for the Trustcall extractor\n",
        "    tool_name = \"ToDo\"\n",
        "    existing_memories = ([(existing_item.key, tool_name, existing_item.value)\n",
        "                          for existing_item in existing_items]\n",
        "                          if existing_items\n",
        "                          else None\n",
        "                        )\n",
        "\n",
        "    # Merge the chat history and the instruction\n",
        "    TRUSTCALL_INSTRUCTION_FORMATTED=TRUSTCALL_INSTRUCTION.format(time=datetime.now().isoformat())\n",
        "    updated_messages=list(merge_message_runs(messages=[SystemMessage(content=TRUSTCALL_INSTRUCTION_FORMATTED)] + state[\"messages\"][:-1]))\n",
        "\n",
        "    # Initialize the spy for visibility into the tool calls made by Trustcall\n",
        "    spy = Spy()\n",
        "\n",
        "    # Create the Trustcall extractor for updating the ToDo list\n",
        "    todo_extractor = create_extractor(\n",
        "    model,\n",
        "    tools=[ToDo],\n",
        "    tool_choice=tool_name,\n",
        "    enable_inserts=True\n",
        "    ).with_listeners(on_end=spy)\n",
        "\n",
        "    # Invoke the extractor\n",
        "    result = todo_extractor.invoke({\"messages\": updated_messages,\n",
        "                                    \"existing\": existing_memories})\n",
        "\n",
        "    # Save the memories from Trustcall to the store\n",
        "    for r, rmeta in zip(result[\"responses\"], result[\"response_metadata\"]):\n",
        "        store.put(namespace,\n",
        "                  rmeta.get(\"json_doc_id\", str(uuid.uuid4())),\n",
        "                  r.model_dump(mode=\"json\"),\n",
        "            )\n",
        "\n",
        "    # Respond to the tool call made in task_mAIstro, confirming the update\n",
        "    tool_calls = state['messages'][-1].tool_calls\n",
        "\n",
        "    # Extract the changes made by Trustcall and add the the ToolMessage returned to task_mAIstro\n",
        "    todo_update_msg = extract_tool_info(spy.called_tools, tool_name)\n",
        "    return {\"messages\": [{\"role\": \"tool\", \"content\": todo_update_msg, \"tool_call_id\":tool_calls[0]['id']}]}\n",
        "\n",
        "def update_instructions(state: MessagesState, config: RunnableConfig, store: BaseStore):\n",
        "\n",
        "    \"\"\"Reflect on the chat history and update the memory collection.\"\"\"\n",
        "\n",
        "    # Get the user ID from the config\n",
        "    user_id = config[\"configurable\"][\"user_id\"]\n",
        "\n",
        "    namespace = (\"instructions\", user_id)\n",
        "\n",
        "    existing_memory = store.get(namespace, \"user_instructions\")\n",
        "\n",
        "    # Format the memory in the system prompt\n",
        "    system_msg = CREATE_INSTRUCTIONS.format(current_instructions=existing_memory.value if existing_memory else None)\n",
        "    new_memory = model.invoke([SystemMessage(content=system_msg)]+state['messages'][:-1] + [HumanMessage(content=\"Please update the instructions based on the conversation\")])\n",
        "\n",
        "    # Overwrite the existing memory in the store\n",
        "    key = \"user_instructions\"\n",
        "    store.put(namespace, key, {\"memory\": new_memory.content})\n",
        "    tool_calls = state['messages'][-1].tool_calls\n",
        "    return {\"messages\": [{\"role\": \"tool\", \"content\": \"updated instructions\", \"tool_call_id\":tool_calls[0]['id']}]}\n",
        "\n",
        "# Conditional edge\n",
        "def route_message(state: MessagesState, config: RunnableConfig, store: BaseStore) -> Literal[END, \"update_todos\", \"update_instructions\", \"update_profile\"]:\n",
        "\n",
        "    \"\"\"Reflect on the memories and chat history to decide whether to update the memory collection.\"\"\"\n",
        "    message = state['messages'][-1]\n",
        "    if len(message.tool_calls) ==0:\n",
        "        return END\n",
        "    else:\n",
        "        tool_call = message.tool_calls[0]\n",
        "        if tool_call['args']['update_type'] == \"user\":\n",
        "            return \"update_profile\"\n",
        "        elif tool_call['args']['update_type'] == \"todo\":\n",
        "            return \"update_todos\"\n",
        "        elif tool_call['args']['update_type'] == \"instructions\":\n",
        "            return \"update_instructions\"\n",
        "        else:\n",
        "            raise ValueError\n",
        "\n",
        "# Create the graph + all nodes\n",
        "builder = StateGraph(MessagesState)\n",
        "\n",
        "# Define the flow of the memory extraction process\n",
        "builder.add_node(task_mAIstro)\n",
        "builder.add_node(update_todos)\n",
        "builder.add_node(update_profile)\n",
        "builder.add_node(update_instructions)\n",
        "builder.add_edge(START, \"task_mAIstro\")\n",
        "builder.add_conditional_edges(\"task_mAIstro\", route_message)\n",
        "builder.add_edge(\"update_todos\", \"task_mAIstro\")\n",
        "builder.add_edge(\"update_profile\", \"task_mAIstro\")\n",
        "builder.add_edge(\"update_instructions\", \"task_mAIstro\")\n",
        "\n",
        "# Store for long-term (across-thread) memory\n",
        "across_thread_memory = InMemoryStore()\n",
        "\n",
        "# Checkpointer for short-term (within-thread) memory\n",
        "within_thread_memory = MemorySaver()\n",
        "\n",
        "# We compile the graph with the checkpointer and store\n",
        "graph = builder.compile(checkpointer=within_thread_memory, store=across_thread_memory)\n",
        "\n",
        "# View\n",
        "display(Image(graph.get_graph(xray=1).draw_mermaid_png()))"
      ],
      "metadata": {
        "colab": {
          "base_uri": "https://localhost:8080/",
          "height": 266
        },
        "id": "OdzEbPqWzZ5E",
        "outputId": "f09e4bdb-dd58-456f-a3b1-10edc1cb8bfc"
      },
      "execution_count": null,
      "outputs": [
        {
          "output_type": "display_data",
          "data": {
            "image/png": "[encoded data removed]",
            "text/plain": [
              "<IPython.core.display.Image object>"
            ]
          },
          "metadata": {}
        }
      ]
    },
    {
      "cell_type": "code",
      "source": [
        "# We supply a thread ID for short-term (within-thread) memory\n",
        "# We supply a user ID for long-term (across-thread) memory\n",
        "config = {\"configurable\": {\"thread_id\": \"1\", \"user_id\": \"Lance\"}}\n",
        "\n",
        "# User input to create a profile memory\n",
        "input_messages = [HumanMessage(content=\"My name is Lance. I live in SF with my wife. I have a 1 year old daughter.\")]\n",
        "\n",
        "# Run the graph\n",
        "for chunk in graph.stream({\"messages\": input_messages}, config, stream_mode=\"values\"):\n",
        "    chunk[\"messages\"][-1].pretty_print()"
      ],
      "metadata": {
        "id": "yZh1UGhBXxh1",
        "outputId": "644ee74a-3775-47b1-fd59-9b5648c7ce06",
        "colab": {
          "base_uri": "https://localhost:8080/"
        }
      },
      "execution_count": null,
      "outputs": [
        {
          "output_type": "stream",
          "name": "stdout",
          "text": [
            "================================\u001b[1m Human Message \u001b[0m=================================\n",
            "\n",
            "My name is Lance. I live in SF with my wife. I have a 1 year old daughter.\n",
            "==================================\u001b[1m Ai Message \u001b[0m==================================\n",
            "Tool Calls:\n",
            "  UpdateMemory (call_wfFSmRwxj3LmdfY8mkH7wKqe)\n",
            " Call ID: call_wfFSmRwxj3LmdfY8mkH7wKqe\n",
            "  Args:\n",
            "    update_type: user\n",
            "=================================\u001b[1m Tool Message \u001b[0m=================================\n",
            "\n",
            "updated profile\n",
            "==================================\u001b[1m Ai Message \u001b[0m==================================\n",
            "\n",
            "Thanks for the update, Lance. I have your profile saved. Let me know if there's anything you'd like to add or update!\n"
          ]
        }
      ]
    },
    {
      "cell_type": "code",
      "source": [
        "# User input for a ToDo\n",
        "input_messages = [HumanMessage(content=\"My wife asked me to book swim lessons for the baby.\")]\n",
        "\n",
        "# Run the graph\n",
        "for chunk in graph.stream({\"messages\": input_messages}, config, stream_mode=\"values\"):\n",
        "    chunk[\"messages\"][-1].pretty_print()"
      ],
      "metadata": {
        "id": "2SQFf5qYw46S"
      },
      "execution_count": null,
      "outputs": []
    },
    {
      "cell_type": "code",
      "source": [
        "# User input to update instructions for creating ToDos\n",
        "input_messages = [HumanMessage(content=\"When creating or updating ToDo items, include specific local businesses / vendors.\")]\n",
        "\n",
        "# Run the graph\n",
        "for chunk in graph.stream({\"messages\": input_messages}, config, stream_mode=\"values\"):\n",
        "    chunk[\"messages\"][-1].pretty_print()"
      ],
      "metadata": {
        "id": "gRazUGyAw8BC"
      },
      "execution_count": null,
      "outputs": []
    },
    {
      "cell_type": "code",
      "source": [
        "# Check for updated instructions\n",
        "user_id = \"Lance\"\n",
        "\n",
        "# Search\n",
        "for memory in across_thread_memory.search((\"instructions\", user_id)):\n",
        "    print(memory.value)"
      ],
      "metadata": {
        "id": "eues7iC6w-JC"
      },
      "execution_count": null,
      "outputs": []
    },
    {
      "cell_type": "code",
      "source": [
        "# User input for a ToDo\n",
        "input_messages = [HumanMessage(content=\"I need to fix the jammed electric Yale lock on the door.\")]\n",
        "\n",
        "# Run the graph\n",
        "for chunk in graph.stream({\"messages\": input_messages}, config, stream_mode=\"values\"):\n",
        "    chunk[\"messages\"][-1].pretty_print()"
      ],
      "metadata": {
        "id": "90KhXqG5xA0F"
      },
      "execution_count": null,
      "outputs": []
    },
    {
      "cell_type": "code",
      "source": [
        "# Namespace for the memory to save\n",
        "user_id = \"Lance\"\n",
        "\n",
        "# Search\n",
        "for memory in across_thread_memory.search((\"todo\", user_id)):\n",
        "    print(memory.value)"
      ],
      "metadata": {
        "id": "tZAPFxObxDob"
      },
      "execution_count": null,
      "outputs": []
    },
    {
      "cell_type": "code",
      "source": [
        "# User input to update an existing ToDo\n",
        "input_messages = [HumanMessage(content=\"For the swim lessons, I need to get that done by end of November.\")]\n",
        "\n",
        "# Run the graph\n",
        "for chunk in graph.stream({\"messages\": input_messages}, config, stream_mode=\"values\"):\n",
        "    chunk[\"messages\"][-1].pretty_print()"
      ],
      "metadata": {
        "id": "9qaSdm17xFDm"
      },
      "execution_count": null,
      "outputs": []
    },
    {
      "cell_type": "code",
      "source": [
        "# User input for a ToDo\n",
        "input_messages = [HumanMessage(content=\"Need to call back City Toyota to schedule car service.\")]\n",
        "\n",
        "# Run the graph\n",
        "for chunk in graph.stream({\"messages\": input_messages}, config, stream_mode=\"values\"):\n",
        "    chunk[\"messages\"][-1].pretty_print()"
      ],
      "metadata": {
        "id": "f2uOoPuExIyH"
      },
      "execution_count": null,
      "outputs": []
    },
    {
      "cell_type": "code",
      "source": [
        "# Namespace for the memory to save\n",
        "user_id = \"Lance\"\n",
        "\n",
        "# Search\n",
        "for memory in across_thread_memory.search((\"todo\", user_id)):\n",
        "    print(memory.value)"
      ],
      "metadata": {
        "id": "UfDvKWCpxLkD"
      },
      "execution_count": null,
      "outputs": []
    },
    {
      "cell_type": "code",
      "source": [
        "# We supply a thread ID for short-term (within-thread) memory\n",
        "# We supply a user ID for long-term (across-thread) memory\n",
        "config = {\"configurable\": {\"thread_id\": \"2\", \"user_id\": \"Lance\"}}\n",
        "\n",
        "# Chat with the chatbot\n",
        "input_messages = [HumanMessage(content=\"I have 30 minutes, what tasks can I get done?\")]\n",
        "\n",
        "# Run the graph\n",
        "for chunk in graph.stream({\"messages\": input_messages}, config, stream_mode=\"values\"):\n",
        "    chunk[\"messages\"][-1].pretty_print()"
      ],
      "metadata": {
        "id": "aDlyYvoFxNz0"
      },
      "execution_count": null,
      "outputs": []
    },
    {
      "cell_type": "code",
      "source": [
        "# Chat with the chatbot\n",
        "input_messages = [HumanMessage(content=\"Yes, give me some options to call for swim lessons.\")]\n",
        "\n",
        "# Run the graph\n",
        "for chunk in graph.stream({\"messages\": input_messages}, config, stream_mode=\"values\"):\n",
        "    chunk[\"messages\"][-1].pretty_print()"
      ],
      "metadata": {
        "id": "-HXiBcd5xP1E"
      },
      "execution_count": null,
      "outputs": []
    }
  ]
}